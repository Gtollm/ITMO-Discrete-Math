{
 "cells": [
  {
   "cell_type": "markdown",
   "id": "306724b4-352d-45e9-b54c-2a8d070d5d5f",
   "metadata": {},
   "source": [
    "# 1."
   ]
  },
  {
   "cell_type": "markdown",
   "id": "33a620ed-8fde-4b7f-be1d-db74998ede5c",
   "metadata": {},
   "source": [
    "Let's count hash"
   ]
  },
  {
   "cell_type": "code",
   "execution_count": 20,
   "id": "24bd4e6d-a495-4b25-bca6-a624f8980d03",
   "metadata": {},
   "outputs": [
    {
     "name": "stdout",
     "output_type": "stream",
     "text": [
      "h = 1101100100101000111100011001110010010100110101101000010111001100001000000101011100101111000101100110111110111001100010011010111111100010011101001000000100110101110001100000000010110111011111011111111010000000011010010001101010111101010101010111100000100100\n"
     ]
    }
   ],
   "source": [
    "import hashlib\n",
    "s = \"DM Fall 2024 HW3\"\n",
    "s = s.encode('utf8')\n",
    "m = hashlib.sha256()\n",
    "m.update(s)\n",
    "hash_binary = bin(int(m.hexdigest(), 16))[2:] \n",
    "hash_binary = hash_binary.zfill(256)\n",
    "print(f\"h = {hash_binary}\")"
   ]
  },
  {
   "cell_type": "markdown",
   "id": "6c5ca102-4da8-4070-98e2-cf0770dd0017",
   "metadata": {},
   "source": [
    "Now let's break it into 32-bit slices"
   ]
  },
  {
   "cell_type": "code",
   "execution_count": 2,
   "id": "d3d28861-c35b-49d6-9105-776d69dca6ec",
   "metadata": {},
   "outputs": [],
   "source": [
    "import numpy as np"
   ]
  },
  {
   "cell_type": "code",
   "execution_count": 90,
   "id": "97700227-bb53-4c1a-acdc-82542342bb39",
   "metadata": {},
   "outputs": [
    {
     "data": {
      "text/plain": [
       "array([3643339164, 2497086924,  542584598, 1874430383, 3799286069,\n",
       "       3321935741, 4269828378, 3176495140])"
      ]
     },
     "execution_count": 90,
     "metadata": {},
     "output_type": "execute_result"
    }
   ],
   "source": [
    "binary_array = np.array(list(hash_binary), dtype=np.int64)\n",
    "reshaped_array = binary_array.reshape(-1, 32)\n",
    "pieces_str = [\"\".join(row.astype(str)) for row in reshaped_array]\n",
    "pieces = reshaped_array.dot(1 << np.arange(31, -1, -1)) \n",
    "pieces"
   ]
  },
  {
   "cell_type": "code",
   "execution_count": 91,
   "id": "8fe27d74-6452-45cc-860d-4cbe2299e8ba",
   "metadata": {},
   "outputs": [
    {
     "data": {
      "text/plain": [
       "['11011001001010001111000110011100',\n",
       " '10010100110101101000010111001100',\n",
       " '00100000010101110010111100010110',\n",
       " '01101111101110011000100110101111',\n",
       " '11100010011101001000000100110101',\n",
       " '11000110000000001011011101111101',\n",
       " '11111110100000000110100100011010',\n",
       " '10111101010101010111100000100100']"
      ]
     },
     "execution_count": 91,
     "metadata": {},
     "output_type": "execute_result"
    }
   ],
   "source": [
    "pieces_str"
   ]
  },
  {
   "cell_type": "code",
   "execution_count": 92,
   "id": "64292acd-98f2-45e6-8616-43a40c44f066",
   "metadata": {},
   "outputs": [
    {
     "name": "stdout",
     "output_type": "stream",
     "text": [
      "d = 01100101101100011111010110011111\n"
     ]
    }
   ],
   "source": [
    "xor = pieces[0]\n",
    "for i in pieces[1:]:\n",
    "    xor = xor ^ i\n",
    "print(f\"d = {bin(xor)[2::].zfill(32)}\")"
   ]
  },
  {
   "cell_type": "code",
   "execution_count": 47,
   "id": "9496f94b-4edc-4d71-86ea-4b608c22e9f0",
   "metadata": {},
   "outputs": [
    {
     "name": "stdout",
     "output_type": "stream",
     "text": [
      "w = 00010011101000100101010101010101\n"
     ]
    }
   ],
   "source": [
    "w = xor ^ 0x7613a0ca\n",
    "print(f\"w = {bin(w)[2::].zfill(32)}\")"
   ]
  },
  {
   "cell_type": "code",
   "execution_count": 81,
   "id": "a27a65d5-0697-4c31-883b-7a1226aa0557",
   "metadata": {},
   "outputs": [],
   "source": [
    "def truth_table(num_vars:int, code:int):\n",
    "    num = 0\n",
    "    code_str = bin(code)[2::].zfill(2**num_vars)\n",
    "    for letter in code_str:\n",
    "        print(f\"{' '.join(list(bin(num)[2::].zfill(num_vars)))}    {code_str[num]}\")\n",
    "        num += 1"
   ]
  },
  {
   "cell_type": "code",
   "execution_count": 82,
   "id": "a29fe59d-ccae-4fc5-898c-d5a2d9cd7643",
   "metadata": {},
   "outputs": [
    {
     "name": "stdout",
     "output_type": "stream",
     "text": [
      "0 0 0 0 0    0\n",
      "0 0 0 0 1    0\n",
      "0 0 0 1 0    0\n",
      "0 0 0 1 1    1\n",
      "0 0 1 0 0    0\n",
      "0 0 1 0 1    0\n",
      "0 0 1 1 0    1\n",
      "0 0 1 1 1    1\n",
      "0 1 0 0 0    1\n",
      "0 1 0 0 1    0\n",
      "0 1 0 1 0    1\n",
      "0 1 0 1 1    0\n",
      "0 1 1 0 0    0\n",
      "0 1 1 0 1    0\n",
      "0 1 1 1 0    1\n",
      "0 1 1 1 1    0\n",
      "1 0 0 0 0    0\n",
      "1 0 0 0 1    1\n",
      "1 0 0 1 0    0\n",
      "1 0 0 1 1    1\n",
      "1 0 1 0 0    0\n",
      "1 0 1 0 1    1\n",
      "1 0 1 1 0    0\n",
      "1 0 1 1 1    1\n",
      "1 1 0 0 0    0\n",
      "1 1 0 0 1    1\n",
      "1 1 0 1 0    0\n",
      "1 1 0 1 1    1\n",
      "1 1 1 0 0    0\n",
      "1 1 1 0 1    1\n",
      "1 1 1 1 0    0\n",
      "1 1 1 1 1    1\n"
     ]
    }
   ],
   "source": [
    "truth_table(5,w)"
   ]
  }
 ],
 "metadata": {
  "kernelspec": {
   "display_name": "Python 3 (ipykernel)",
   "language": "python",
   "name": "python3"
  },
  "language_info": {
   "codemirror_mode": {
    "name": "ipython",
    "version": 3
   },
   "file_extension": ".py",
   "mimetype": "text/x-python",
   "name": "python",
   "nbconvert_exporter": "python",
   "pygments_lexer": "ipython3",
   "version": "3.13.1"
  }
 },
 "nbformat": 4,
 "nbformat_minor": 5
}
